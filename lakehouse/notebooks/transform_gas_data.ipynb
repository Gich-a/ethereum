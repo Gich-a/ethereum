{
 "cells": [
  {
   "cell_type": "code",
   "execution_count": null,
   "metadata": {},
   "outputs": [],
   "source": [
    "# lakehouse/notebooks/transform_gas_data.ipynb\n",
    "# Databricks notebook source\n",
    "# MAGIC %md\n",
    "# MAGIC # Ethereum Gas Data Transformation\n",
    "# MAGIC \n",
    "# MAGIC This notebook transforms raw Ethereum gas price data from the lakehouse raw tables\n",
    "# MAGIC and creates curated and aggregated tables for analysis.\n",
    "\n",
    "# COMMAND ----------\n",
    "\n",
    "from pyspark.sql import SparkSession\n",
    "from pyspark.sql.functions import *\n",
    "from pyspark.sql.types import *\n",
    "from pyspark.sql.window import Window\n",
    "from delta.tables import *"
   ]
  },
  {
   "cell_type": "code",
   "execution_count": null,
   "metadata": {},
   "outputs": [],
   "source": [
    "# Initialize Spark session\n",
    "spark = SparkSession.builder \\\n",
    "    .appName(\"EthereumGasTransformation\") \\\n",
    "    .config(\"spark.sql.extensions\", \"io.delta.sql.DeltaSparkSessionExtension\") \\\n",
    "    .config(\"spark.sql.catalog.spark_catalog\", \"org.apache.spark.sql.delta.catalog.DeltaCatalog\") \\\n",
    "    .getOrCreate()"
   ]
  },
  {
   "cell_type": "code",
   "execution_count": null,
   "metadata": {},
   "outputs": [],
   "source": [
    "# COMMAND ----------\n",
    "\n",
    "# MAGIC %md\n",
    "# MAGIC ## Read Raw Gas Data\n",
    "\n",
    "# COMMAND ----------\n",
    "\n",
    "# Read raw gas data from lakehouse\n",
    "raw_gas_df = spark.read \\\n",
    "    .format(\"delta\") \\\n",
    "    .load(\"Tables/raw/eth_gas_raw\")"
   ]
  },
  {
   "cell_type": "code",
   "execution_count": null,
   "metadata": {},
   "outputs": [],
   "source": [
    "# Show schema and sample data\n",
    "print(\"Raw gas data schema:\")\n",
    "raw_gas_df.printSchema()\n",
    "print(\"\\nSample data:\")\n",
    "raw_gas_df.show(5)"
   ]
  },
  {
   "cell_type": "code",
   "execution_count": null,
   "id": "8dd1ecc1",
   "metadata": {},
   "outputs": [],
   "source": [
    "# COMMAND ----------\n",
    "\n",
    "# MAGIC %md\n",
    "# MAGIC ## Data Quality Checks\n",
    "\n",
    "# COMMAND ----------\n",
    "\n",
    "# Data quality checks\n",
    "print(\"Data Quality Checks:\")\n",
    "print(f\"Total records: {raw_gas_df.count()}\")\n",
    "print(f\"Null timestamps: {raw_gas_df.filter(col('timestamp').isNull()).count()}\")\n",
    "print(f\"Invalid gas prices (> 1000 gwei): {raw_gas_df.filter(col('fast_gas_price') > 1000).count()}\")"
   ]
  },
  {
   "cell_type": "code",
   "execution_count": null,
   "id": "beda6f43",
   "metadata": {},
   "outputs": [],
   "source": [
    "# Check for duplicates\n",
    "duplicate_count = raw_gas_df.groupBy(\"timestamp\").count().filter(col(\"count\") > 1).count()\n",
    "print(f\"Duplicate timestamps: {duplicate_count}\")\n"
   ]
  },
  {
   "cell_type": "code",
   "execution_count": null,
   "id": "6c149d02",
   "metadata": {},
   "outputs": [],
   "source": [
    "# COMMAND ----------\n",
    "\n",
    "# MAGIC %md\n",
    "# MAGIC ## Transform to Curated Data\n",
    "\n",
    "# COMMAND ----------\n",
    "\n",
    "# Transform raw data to curated format\n",
    "curated_gas_df = raw_gas_df \\\n",
    "    .withColumn(\"timestamp_dt\", to_timestamp(col(\"timestamp\"))) \\\n",
    "    .withColumn(\"date\", date_format(col(\"timestamp_dt\"), \"yyyy-MM-dd\")) \\\n",
    "    .withColumn(\"hour\", hour(col(\"timestamp_dt\"))) \\\n",
    "    .withColumn(\"day_of_week\", dayofweek(col(\"timestamp_dt\"))) \\\n",
    "    .withColumn(\"is_weekend\", when(col(\"day_of_week\").isin([1, 7]), True).otherwise(False)) \\\n",
    "    .withColumn(\"gas_price_category\", \n",
    "               when(col(\"fast_gas_price\") < 20, \"Low\")\n",
    "               .when(col(\"fast_gas_price\") < 50, \"Medium\")\n",
    "               .when(col(\"fast_gas_price\") < 100, \"High\")\n",
    "               .otherwise(\"Very High\")) \\\n",
    "    .filter(col(\"fast_gas_price\").isNotNull() & (col(\"fast_gas_price\") > 0))"
   ]
  },
  {
   "cell_type": "code",
   "execution_count": null,
   "id": "7bcfaa02",
   "metadata": {},
   "outputs": [],
   "source": [
    "# Add moving averages\n",
    "window_1h = Window.orderBy(\"timestamp_dt\").rowsBetween(-11, 0)  # 1 hour window (5min intervals)\n",
    "window_24h = Window.orderBy(\"timestamp_dt\").rowsBetween(-287, 0)  # 24 hour window\n",
    "\n",
    "curated_gas_df = curated_gas_df \\\n",
    "    .withColumn(\"safe_gas_ma_1h\", avg(\"safe_gas_price\").over(window_1h)) \\\n",
    "    .withColumn(\"standard_gas_ma_1h\", avg(\"standard_gas_price\").over(window_1h)) \\\n",
    "    .withColumn(\"fast_gas_ma_1h\", avg(\"fast_gas_price\").over(window_1h)) \\\n",
    "    .withColumn(\"safe_gas_ma_24h\", avg(\"safe_gas_price\").over(window_24h)) \\\n",
    "    .withColumn(\"standard_gas_ma_24h\", avg(\"standard_gas_price\").over(window_24h)) \\\n",
    "    .withColumn(\"fast_gas_ma_24h\", avg(\"fast_gas_price\").over(window_24h))\n",
    "\n",
    "print(\"Curated gas data schema:\")\n",
    "curated_gas_df.printSchema()"
   ]
  },
  {
   "cell_type": "code",
   "execution_count": null,
   "id": "8c2de8c1",
   "metadata": {},
   "outputs": [],
   "source": [
    "# COMMAND ----------\n",
    "\n",
    "# MAGIC %md\n",
    "# MAGIC ## Write Curated Data\n",
    "\n",
    "# COMMAND ----------\n",
    "\n",
    "# Write curated data to delta table\n",
    "curated_gas_df.write \\\n",
    "    .format(\"delta\") \\\n",
    "    .mode(\"overwrite\") \\\n",
    "    .partitionBy(\"date\") \\\n",
    "    .save(\"Tables/curated/eth_gas_curated\")\n",
    "\n",
    "print(\"Curated gas data written successfully\")"
   ]
  },
  {
   "cell_type": "code",
   "execution_count": null,
   "id": "3e97f837",
   "metadata": {},
   "outputs": [],
   "source": [
    "# COMMAND ----------\n",
    "\n",
    "# MAGIC %md\n",
    "# MAGIC ## Create Aggregated Views\n",
    "\n",
    "# COMMAND ----------\n",
    "\n",
    "# Daily aggregations\n",
    "daily_gas_agg = curated_gas_df \\\n",
    "    .groupBy(\"date\") \\\n",
    "    .agg(\n",
    "        avg(\"safe_gas_price\").alias(\"avg_safe_gas\"),\n",
    "        avg(\"standard_gas_price\").alias(\"avg_standard_gas\"),\n",
    "        avg(\"fast_gas_price\").alias(\"avg_fast_gas\"),\n",
    "        min(\"safe_gas_price\").alias(\"min_safe_gas\"),\n",
    "        max(\"fast_gas_price\").alias(\"max_fast_gas\"),\n",
    "        stddev(\"fast_gas_price\").alias(\"fast_gas_volatility\"),\n",
    "        count(\"*\").alias(\"data_points\"),\n",
    "        sum(when(col(\"gas_price_category\") == \"Low\", 1).otherwise(0)).alias(\"low_gas_periods\"),\n",
    "        sum(when(col(\"gas_price_category\") == \"Very High\", 1).otherwise(0)).alias(\"high_gas_periods\")\n",
    "    ) \\\n",
    "    .withColumn(\"gas_volatility_category\",\n",
    "               when(col(\"fast_gas_volatility\") < 10, \"Stable\")\n",
    "               .when(col(\"fast_gas_volatility\") < 25, \"Moderate\")\n",
    "               .otherwise(\"Volatile\"))"
   ]
  },
  {
   "cell_type": "code",
   "execution_count": null,
   "id": "cd394b43",
   "metadata": {},
   "outputs": [],
   "source": [
    "# Hourly aggregations\n",
    "hourly_gas_agg = curated_gas_df \\\n",
    "    .groupBy(\"date\", \"hour\") \\\n",
    "    .agg(\n",
    "        avg(\"safe_gas_price\").alias(\"avg_safe_gas\"),\n",
    "        avg(\"standard_gas_price\").alias(\"avg_standard_gas\"),\n",
    "        avg(\"fast_gas_price\").alias(\"avg_fast_gas\"),\n",
    "        min(\"safe_gas_price\").alias(\"min_safe_gas\"),\n",
    "        max(\"fast_gas_price\").alias(\"max_fast_gas\"),\n",
    "        count(\"*\").alias(\"data_points\")\n",
    "    ) \\\n",
    "    .withColumn(\"hour_category\",\n",
    "               when(col(\"hour\").between(0, 5), \"Night\")\n",
    "               .when(col(\"hour\").between(6, 11), \"Morning\")\n",
    "               .when(col(\"hour\").between(12, 17), \"Afternoon\")\n",
    "               .otherwise(\"Evening\"))"
   ]
  },
  {
   "cell_type": "code",
   "execution_count": null,
   "id": "d1ae038c",
   "metadata": {},
   "outputs": [],
   "source": [
    "# COMMAND ----------\n",
    "\n",
    "# MAGIC %md\n",
    "# MAGIC ## Write Aggregated Data\n",
    "\n",
    "# COMMAND ----------\n",
    "\n",
    "# Write daily aggregations\n",
    "daily_gas_agg.write \\\n",
    "    .format(\"delta\") \\\n",
    "    .mode(\"overwrite\") \\\n",
    "    .save(\"Tables/aggregated/eth_gas_daily\")\n",
    "\n",
    "# Write hourly aggregations\n",
    "hourly_gas_agg.write \\\n",
    "    .format(\"delta\") \\\n",
    "    .mode(\"overwrite\") \\\n",
    "    .partitionBy(\"date\") \\\n",
    "    .save(\"Tables/aggregated/eth_gas_hourly\")\n",
    "\n",
    "print(\"Aggregated gas data written successfully\")"
   ]
  },
  {
   "cell_type": "code",
   "execution_count": null,
   "id": "0e166b2e",
   "metadata": {},
   "outputs": [],
   "source": [
    "# COMMAND ----------\n",
    "\n",
    "# MAGIC %md\n",
    "# MAGIC ## Data Validation and Summary\n",
    "\n",
    "# COMMAND ----------\n",
    "\n",
    "# Summary statistics\n",
    "print(\"=== TRANSFORMATION SUMMARY ===\")\n",
    "print(f\"Raw records processed: {raw_gas_df.count()}\")\n",
    "print(f\"Curated records created: {curated_gas_df.count()}\")\n",
    "print(f\"Daily aggregation records: {daily_gas_agg.count()}\")\n",
    "print(f\"Hourly aggregation records: {hourly_gas_agg.count()}\")"
   ]
  },
  {
   "cell_type": "code",
   "execution_count": null,
   "id": "4ee272c0",
   "metadata": {},
   "outputs": [],
   "source": [
    "# Show sample of final aggregated data\n",
    "print(\"\\nDaily Gas Price Summary (Last 5 days):\")\n",
    "daily_gas_agg.orderBy(desc(\"date\")).show(5)\n",
    "\n",
    "print(\"\\nHourly Gas Price Summary (Last 24 hours):\")\n",
    "hourly_gas_agg.filter(col(\"date\") == daily_gas_agg.agg(max(\"date\")).collect()[0][0]) \\\n",
    "    .orderBy(\"hour\").show(24)"
   ]
  },
  {
   "cell_type": "code",
   "execution_count": null,
   "metadata": {},
   "outputs": [],
   "source": [
    "# COMMAND ----------\n",
    "\n",
    "# MAGIC %md\n",
    "# MAGIC ## Create Views for Real-time Queries\n",
    "\n",
    "# COMMAND ----------\n",
    "\n",
    "# Create temporary views for real-time dashboard queries\n",
    "curated_gas_df.createOrReplaceTempView(\"gas_data_realtime\")\n",
    "daily_gas_agg.createOrReplaceTempView(\"gas_data_daily\")\n",
    "hourly_gas_agg.createOrReplaceTempView(\"gas_data_hourly\")\n",
    "\n",
    "print(\"Temporary views created for real-time queries\")\n",
    "\n",
    "# COMMAND ----------\n",
    "\n",
    "# MAGIC %sql\n",
    "# MAGIC -- Create optimized delta tables with Z-ordering\n",
    "# MAGIC OPTIMIZE delta.`Tables/curated/eth_gas_curated` ZORDER BY (timestamp_dt);\n",
    "# MAGIC OPTIMIZE delta.`Tables/aggregated/eth_gas_daily` ZORDER BY (date);\n",
    "# MAGIC OPTIMIZE delta.`Tables/aggregated/eth_gas_hourly` ZORDER BY (date, hour);"
   ]
  }
 ],
 "metadata": {
  "kernelspec": {
   "display_name": ".venv",
   "language": "python",
   "name": "python3"
  },
  "language_info": {
   "name": "python",
   "version": "3.12.1"
  }
 },
 "nbformat": 4,
 "nbformat_minor": 5
}
